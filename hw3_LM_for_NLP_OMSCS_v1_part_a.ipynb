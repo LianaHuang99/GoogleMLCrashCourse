{
  "cells": [
    {
      "cell_type": "markdown",
      "metadata": {
        "id": "view-in-github",
        "colab_type": "text"
      },
      "source": [
        "<a href=\"https://colab.research.google.com/github/LianaHuang99/GoogleMLCrashCourse/blob/main/hw3_LM_for_NLP_OMSCS_v1_part_a.ipynb\" target=\"_parent\"><img src=\"https://colab.research.google.com/assets/colab-badge.svg\" alt=\"Open In Colab\"/></a>"
      ]
    },
    {
      "cell_type": "markdown",
      "metadata": {
        "editable": false,
        "id": "UT-whgM5YV8X",
        "tags": []
      },
      "source": [
        "# Language Modeling\n",
        "\n",
        "A language model attempts to approximate the underlying statistics of a text corpus $P(tok_n | tok_1, tok_2, ..., tok_{n-1}; \\theta)$ where $\\theta$ is a set of learned parameters/weights. For the purposes of this notebook, tokens will be words. Language models can be used for a variety of applications, one of which being text generation. In this assignement we will be looking at Recurrent Neural Networks.\n",
        "\n",
        "**Tips:**\n",
        "- Read all the code. We don't ask you to write the training loops, evaluation loops, and generation loops, but it is often instructive to see how the models are trained and evaluated.\n",
        "- If you have a model that is learning (loss is decreasing), but you want to increase accuracy, try using ``nn.Dropout`` layers just before the final linear layer to force the model to handle missing or unfamiliar data."
      ]
    },
    {
      "cell_type": "code",
      "execution_count": 1,
      "metadata": {
        "editable": false,
        "tags": [
          "raises-exception"
        ],
        "id": "rUcw5RpxylPy"
      },
      "outputs": [],
      "source": [
        "# start time - notebook execution\n",
        "import time\n",
        "start_nb = time.time()"
      ]
    },
    {
      "cell_type": "markdown",
      "metadata": {
        "editable": false,
        "id": "VeQWnSY8CgT1",
        "tags": []
      },
      "source": [
        "# Set up"
      ]
    },
    {
      "cell_type": "markdown",
      "metadata": {
        "editable": false,
        "id": "vcoLFG32u68g",
        "tags": []
      },
      "source": [
        "Import packages"
      ]
    },
    {
      "cell_type": "code",
      "execution_count": 2,
      "metadata": {
        "editable": false,
        "id": "us-v9ZxoTHV1",
        "tags": [
          "raises-exception"
        ]
      },
      "outputs": [],
      "source": [
        "import numpy as np\n",
        "import os\n",
        "import re\n",
        "import torch\n",
        "import torch.nn as nn\n",
        "import torch.nn.functional as F\n",
        "import unicodedata\n",
        "\n",
        "# ignore all warnings\n",
        "import warnings\n",
        "warnings.filterwarnings('ignore')"
      ]
    },
    {
      "cell_type": "markdown",
      "metadata": {
        "collapsed": false,
        "editable": false,
        "tags": [],
        "id": "68XBK-tAylP0"
      },
      "source": [
        "# Initialize the Autograder"
      ]
    },
    {
      "cell_type": "code",
      "execution_count": 3,
      "metadata": {
        "editable": false,
        "tags": [
          "raises-exception"
        ],
        "id": "M-lwlFCwylP1"
      },
      "outputs": [],
      "source": [
        "# import the autograder tests\n",
        "import hw3a_tests as ag"
      ]
    },
    {
      "cell_type": "markdown",
      "metadata": {
        "editable": false,
        "id": "Fp1_pgBuY5zT",
        "tags": []
      },
      "source": [
        "We will build a *vocabulary*, which will act as a dictionary of all the words our systems will know about. It will also allow us to map words to tokens, which will be unique indexes in the vocabulary. This will further allow us to transform words into one-hot vectors, where a word is represented as a vector of the same length as the vocabulary wherein all values are zeros except for the *i*th element, where *i* is the token number of the word."
      ]
    },
    {
      "cell_type": "code",
      "execution_count": 4,
      "metadata": {
        "editable": false,
        "id": "1ybnRLpOTYwi",
        "tags": [
          "raises-exception"
        ]
      },
      "outputs": [],
      "source": [
        "SOS_token = 0    # A special token representing the start of a sequence\n",
        "EOS_token = 1    # A special token representing the end of a sequence\n",
        "\n",
        "class Vocab:\n",
        "    def __init__(self, name):\n",
        "        self.name = name                             # The name of the vocabulary\n",
        "        self._word2index = {}                        # Map words to token index\n",
        "        self._word2count = {}                        # Track how many times a word occurs in a corpus\n",
        "        self._index2word = {0: \"SOS\", 1: \"EOS\"}      # Map token indexs back into words\n",
        "        self._n_words = 2 # Count SOS and EOS        # Number of unique words in the corpus\n",
        "\n",
        "    # Get a list of all words\n",
        "    def get_words(self):\n",
        "      return list(self._word2count.keys())\n",
        "\n",
        "    # Get the number of words\n",
        "    def num_words(self):\n",
        "      return self._n_words\n",
        "\n",
        "    # Convert a word into a token index\n",
        "    def word2index(self, word):\n",
        "      return self._word2index[word]\n",
        "\n",
        "    # Convert a token into a word\n",
        "    def index2word(self, word):\n",
        "      return self._index2word[word]\n",
        "\n",
        "    # Get the number of times a word occurs\n",
        "    def word2count(self, word):\n",
        "      return self._word2count[word]\n",
        "\n",
        "    # Add all the words in a sentence to the vocabulary\n",
        "    def add_sentence(self, sentence):\n",
        "        for word in sentence.split(' '):\n",
        "            self.add_word(word)\n",
        "\n",
        "    # Add a single word to the vocabulary\n",
        "    def add_word(self, word):\n",
        "        if word not in self._word2index:\n",
        "            self._word2index[word] = self._n_words\n",
        "            self._word2count[word] = 1\n",
        "            self._index2word[self._n_words] = word\n",
        "            self._n_words += 1\n",
        "        else:\n",
        "            self._word2count[word] += 1"
      ]
    },
    {
      "cell_type": "markdown",
      "metadata": {
        "editable": false,
        "id": "8L7cXWAYacx3",
        "tags": []
      },
      "source": [
        "These are some helper functions to *normalize* texts, ie, make the text regular and remove some of the more problematic exceptions found in texts. This normalizer will make all words lowercase, trim plurals, and remove non-letter characters."
      ]
    },
    {
      "cell_type": "code",
      "execution_count": 5,
      "metadata": {
        "editable": false,
        "id": "SpAin8FuTsNr",
        "tags": [
          "raises-exception"
        ]
      },
      "outputs": [],
      "source": [
        "# Convert any unicode to ascii\n",
        "def unicode_to_ascii(s):\n",
        "    return ''.join(\n",
        "        c for c in unicodedata.normalize('NFD', s)\n",
        "        if unicodedata.category(c) != 'Mn'\n",
        "    )\n",
        "\n",
        "# Lowercase, trim, and remove non-letter characters\n",
        "def normalize_string(s):\n",
        "    s = unicode_to_ascii(s.lower().strip())\n",
        "    s = re.sub(r\"([.!?])\", r\" \\1\", s)\n",
        "    s = re.sub(r\"[^a-zA-Z.!?]+\", r\" \", s)\n",
        "    return s"
      ]
    },
    {
      "cell_type": "markdown",
      "metadata": {
        "editable": false,
        "id": "0G1p53AuazDJ",
        "tags": []
      },
      "source": [
        "Download a corpus. This corpus is the ascii text of the book, *The Silmarillion*, by J.R.R. Tolkein. It has a lot of non-common words and names to illustrate how language models deal with such things."
      ]
    },
    {
      "cell_type": "code",
      "execution_count": 6,
      "metadata": {
        "editable": false,
        "id": "i6IA64U3T3K7",
        "tags": [
          "raises-exception"
        ],
        "colab": {
          "base_uri": "https://localhost:8080/"
        },
        "outputId": "f4bdab9b-c855-41d0-d1a6-2e796f752f38"
      },
      "outputs": [
        {
          "output_type": "stream",
          "name": "stdout",
          "text": [
            "data.txt already downloaded\n"
          ]
        }
      ],
      "source": [
        "if os.path.isfile('data.txt'):\n",
        "  print(\"data.txt already downloaded\")\n",
        "else:\n",
        "  print(\"downloading data.txt\")\n",
        "  !wget -O data.txt https://www.dropbox.com/s/pgvn1n7t4sjxt8r/silmarillion?dl=1"
      ]
    },
    {
      "cell_type": "markdown",
      "metadata": {
        "editable": false,
        "id": "EEhv3LTxb1If",
        "tags": []
      },
      "source": [
        "Let's read in the data and take a look at it."
      ]
    },
    {
      "cell_type": "code",
      "execution_count": 7,
      "metadata": {
        "editable": false,
        "id": "AfzYspyHUT7k",
        "tags": [
          "raises-exception"
        ],
        "colab": {
          "base_uri": "https://localhost:8080/",
          "height": 162
        },
        "outputId": "20ebb5b7-2af3-46a6-f359-101b8aa4e2ee"
      },
      "outputs": [
        {
          "output_type": "execute_result",
          "data": {
            "text/plain": [
              "'The Silmarillon Chapter 1\\n\\n\\nOf the Beginning of Days It is told among the wise that the First War began before Arda was full-shaped, and ere yet there was any thing that grew or walked upon earth; and for long Melkor had the upper hand. But in the midst of the war a spirit of great strength and hardihood came to the aid of the Valar, hearing in the far heaven that there was battle in the Little Kingdom; and Arda was filled with the sound of his laughter. So came Tulkas the Strong, whose anger passes like a mighty wind, scattering cloud and darkness before it; and Melkor fled before his wrath and his laughter, and forsook Arda, and there was peace for a long age. And Tulkas remained and became one of the Valar of the Kingdom of Arda; but Melkor brooded in the outer darkness, and his hate was given to Tulkas for ever after.\\n\\nIn that time the Valar brought order to the seas and the lands and the mountains, and Yavanna planted at last the seeds that she had long devised. And since, when th'"
            ],
            "application/vnd.google.colaboratory.intrinsic+json": {
              "type": "string"
            }
          },
          "metadata": {},
          "execution_count": 7
        }
      ],
      "source": [
        "filename = 'data.txt'\n",
        "with open(filename, encoding='utf-8') as f:\n",
        "  text = f.read()\n",
        "text[:1000]"
      ]
    },
    {
      "cell_type": "markdown",
      "metadata": {
        "editable": false,
        "id": "rPga6_LmcDWJ",
        "tags": []
      },
      "source": [
        "Normalize the text and build the vocabulary"
      ]
    },
    {
      "cell_type": "code",
      "execution_count": 8,
      "metadata": {
        "editable": false,
        "id": "FV_ib2sZYMqo",
        "tags": [
          "raises-exception"
        ]
      },
      "outputs": [],
      "source": [
        "normalized_text = normalize_string(text)\n",
        "VOCAB = Vocab(\"text\")\n",
        "VOCAB.add_sentence(normalized_text)"
      ]
    },
    {
      "cell_type": "markdown",
      "metadata": {
        "editable": false,
        "id": "VBei0ecBcHAy",
        "tags": []
      },
      "source": [
        "Make training and testing data splits."
      ]
    },
    {
      "cell_type": "code",
      "execution_count": 9,
      "metadata": {
        "editable": false,
        "id": "HMc-3xncyc_Q",
        "tags": [
          "raises-exception"
        ],
        "colab": {
          "base_uri": "https://localhost:8080/"
        },
        "outputId": "27503ec6-f166-4401-edd3-75cf3e93aa65"
      },
      "outputs": [
        {
          "output_type": "stream",
          "name": "stdout",
          "text": [
            "The first 100 tokens\n",
            "[ 2  3  4  5  2  6  5  7  8  9 10 11  2 12 13  2 14 15 16 17 18 19 20 21\n",
            " 22 23 24 25 19 26 27 13 28 29 30 31 32 22 33 34 35 36  2 37 38 39 40 41\n",
            "  2 42  5  2 15 43 44  5 45 46 22 47 48 49  2 50  5  2 51 52 41  2 53 54\n",
            " 13 25 19 55 41  2 56 57 22 18 19 58 59  2 60  5 61 62 39 63 48 64  2 65\n",
            " 66 67 68 69]\n"
          ]
        }
      ],
      "source": [
        "# Convert every word into a token and build a numpy array of tokens\n",
        "encoded_text = np.array([VOCAB.word2index(word) for word in normalized_text.split()])\n",
        "print(\"The first 100 tokens\")\n",
        "print(encoded_text[:100])\n",
        "# get the validation and the training data\n",
        "test_split = 0.1\n",
        "test_idx = int(len(encoded_text) * (1 - test_split))\n",
        "TRAIN = encoded_text[:test_idx]\n",
        "TEST = encoded_text[test_idx:]\n",
        "# Decrease the size of the training set to make the assignment more tractable\n",
        "TRAIN = TRAIN[:len(TRAIN)//10]"
      ]
    },
    {
      "cell_type": "markdown",
      "metadata": {
        "editable": false,
        "id": "niQcV2wIFq29",
        "tags": []
      },
      "source": [
        "# RNN\n",
        "\n",
        "**Complete the code for an RNN.** An RNN takes a one-hot vector for a single word and a hidden state vector (initially all zeroes), compresses it to a hidden state, and then decompresses it. The decompressed word is tested against the **next** word in the training sequence using cross-entropy loss. The RNN also produces the hidden state vector to pass in with the next word in the training sequence. The neural network must guess the next word as well as learn to create a hidden state vector that helps the next iteration make a better word guess.\n",
        "\n",
        "The neural network's forward function should take two inputs:\n",
        "- The input word (`x`) represented as a one-hot vector of size `1 x vocab_size`\n",
        "- The hidden state, a `1 x hidden_size` vector.\n",
        "\n",
        "A brief note on batching: We will not be using batching in this assignment. But there must always be a batching dimension in our input and output tensors. Thus we will have a batching dimension size of 1 and our tensors will often be of a shape `1 x something`.\n",
        "\n",
        "The neural network architecture shoud concatenate the `x` and the `hidden_state` to make one big long vector. The neural network get's to learn through weights whether to draw from the one-hot (or certain parts of the one-hot) or the hidden state when trying to predict the next token.\n",
        "\n",
        "The neural network should have two affine transformations (`nn.Linear` modules). The first should transform the a tensor of size `1 x (vocab_size + hidden_size)` into a tensor of size `1 x hidden_size`, followed by a sigmoid activation. This compresses the information from the input and forces the neural network to make compromises about what is important. Think of the sigmoid a gate that says yes or no to different combinations of inputs. The second affine transform should be from a tensor of `1 x hidden_size` to one of `1 x vocab_size`. The values in resultant tensor are the raw scores for each possible token in the vocabulary. The forward function should run these scores through a log softmax.\n",
        "\n",
        "The output of the forward function should be two values: a tensor of log-scale scores for each token, and a new hidden state."
      ]
    },
    {
      "cell_type": "markdown",
      "metadata": {
        "editable": false,
        "id": "y0r-3PvoRV3S",
        "tags": []
      },
      "source": [
        "## RNN---Model (30 Points)"
      ]
    },
    {
      "cell_type": "code",
      "execution_count": 10,
      "metadata": {
        "editable": true,
        "id": "vhb3w8CUqydH",
        "nbgrader": {
          "grade": false,
          "grade_id": "cell-2ef3f98851d99506",
          "locked": false,
          "schema_version": 3,
          "solution": true,
          "task": false
        },
        "tags": [
          "raises-exception"
        ]
      },
      "outputs": [],
      "source": [
        "class MyRNN(nn.Module):\n",
        "  def __init__(self, input_size, hidden_size, output_size=None):\n",
        "    super(MyRNN, self).__init__()\n",
        "    # If output_size is not given, use input_size\n",
        "    if output_size is None:\n",
        "      output_size = input_size\n",
        "    self.input_size = input_size      # the size of the input vocabulary\n",
        "    self.hidden_size = hidden_size    # the size of the hidden state\n",
        "    self.output_size = output_size    # the size of the output vocabulary (if different)\n",
        "    ### BEGIN SOLUTION\n",
        "    self.linear1 = nn.Linear(self.input_size + self.hidden_size, self.hidden_size)\n",
        "    self.sigmod = nn.Sigmoid()\n",
        "    self.linear2 = nn.Linear(self.hidden_size, self.output_size)\n",
        "    self.log_softmax = nn.LogSoftmax(dim = 1)\n",
        "\n",
        "    ### END SOLUTION\n",
        "\n",
        "  def forward(self, x, hidden_state):\n",
        "    output = None\n",
        "    hidden = None\n",
        "    ### BEGIN SOLUTION\n",
        "    input = torch.cat((x, hidden_state), dim = 1)\n",
        "    linear1 = self.linear1(input)\n",
        "    hidden = self.sigmod(linear1)\n",
        "    linear2 = self.linear2(hidden)\n",
        "    output = self.log_softmax(linear2)\n",
        "    ### END SOLUTION\n",
        "    return output, hidden\n",
        "\n",
        "  # Make an initial hidden state with some randomness to the values\n",
        "  def init_hidden(self):\n",
        "    return nn.init.kaiming_uniform_(torch.empty(1, self.hidden_size))"
      ]
    },
    {
      "cell_type": "markdown",
      "metadata": {
        "editable": false,
        "id": "QNlqo68hdXT8",
        "tags": []
      },
      "source": [
        "Construct the RNN"
      ]
    },
    {
      "cell_type": "code",
      "execution_count": 11,
      "metadata": {
        "editable": true,
        "id": "BimhoCMSSgRd",
        "tags": [
          "raises-exception"
        ]
      },
      "outputs": [],
      "source": [
        "# it's ok to modify this cell\n",
        "RNN_HIDDEN_SIZE = 256\n",
        "RNN_LEARNING_RATE = 0.001\n",
        "RNN_NUM_EPOCHS = 2"
      ]
    },
    {
      "cell_type": "code",
      "execution_count": 12,
      "metadata": {
        "editable": false,
        "id": "xVQa8yuJq9Sv",
        "tags": [
          "raises-exception"
        ]
      },
      "outputs": [],
      "source": [
        "# Create the network\n",
        "rnn = MyRNN(VOCAB.num_words(), RNN_HIDDEN_SIZE)\n",
        "\n",
        "# Create the loss function and optimizer\n",
        "criterion_rnn = nn.NLLLoss()\n",
        "optimizer_rnn = torch.optim.Adam(rnn.parameters(), lr=RNN_LEARNING_RATE)"
      ]
    },
    {
      "cell_type": "code",
      "execution_count": 13,
      "metadata": {
        "editable": false,
        "id": "M6o9RfTm4A5q",
        "scrolled": true,
        "tags": [
          "raises-exception"
        ],
        "colab": {
          "base_uri": "https://localhost:8080/"
        },
        "outputId": "7e141608-46f0-41d7-dbc0-725a80a424d9"
      },
      "outputs": [
        {
          "output_type": "stream",
          "name": "stdout",
          "text": [
            "NllLossBackward0\n",
            "LogSoftmaxBackward0\n",
            "AddmmBackward0\n",
            "AccumulateGrad\n",
            "SigmoidBackward0\n",
            "AddmmBackward0\n",
            "AccumulateGrad\n",
            "TBackward0\n",
            "AccumulateGrad\n",
            "TBackward0\n",
            "AccumulateGrad\n",
            "NllLossBackward0\n",
            "LogSoftmaxBackward0\n",
            "AddmmBackward0\n",
            "AccumulateGrad\n",
            "SigmoidBackward0\n",
            "AddmmBackward0\n",
            "AccumulateGrad\n",
            "TBackward0\n",
            "AccumulateGrad\n",
            "TBackward0\n",
            "AccumulateGrad\n",
            "NllLossBackward0\n",
            "LogSoftmaxBackward0\n",
            "AddmmBackward0\n",
            "AccumulateGrad\n",
            "SigmoidBackward0\n",
            "AddmmBackward0\n",
            "AccumulateGrad\n",
            "TBackward0\n",
            "AccumulateGrad\n",
            "TBackward0\n",
            "AccumulateGrad\n",
            "Test A: 10/10\n"
          ]
        }
      ],
      "source": [
        "# student check - the following test must return a value of 10 to receive full credit (no partial credit)\n",
        "ag.unit_test_RNN_structure()"
      ]
    },
    {
      "metadata": {
        "id": "mGDgY4BDylP6"
      },
      "cell_type": "markdown",
      "source": [
        "Complete the following function.\n",
        "\n",
        "`token2onehot()` takes a token—a number—and converts it to a one-hot tensor of the shape `1 x vocab_size`. All values should be zeros except for one element, which should be a `1`.\n",
        "\n",
        "`get_rnn_x_y_()` should return the `x` and `y` for a recurrent neural network.\n",
        "\n",
        "- The `x` return value should be a tensor containing a one-hot vector representing the word at position `index` and have a shape of `1 x vocab_size` (the batch size is 1).\n",
        "- The `y` return value should be the token of the word at position `index+1` and be a vector with a single value in it. That is, it should not be a scalar but a vector of length 1.\n"
      ]
    },
    {
      "metadata": {
        "id": "O0Mv6c4cylP7"
      },
      "cell_type": "code",
      "outputs": [],
      "execution_count": 24,
      "source": [
        "def token2onehot(token, vocab_size = VOCAB.num_words()):\n",
        "  one_hot = None\n",
        "  ### BEGIN SOLUTION\n",
        "  one_hot = torch.zeros(1, vocab_size)\n",
        "  one_hot[0, token] = 1\n",
        "  ### END SOLUTION\n",
        "  return one_hot\n",
        "\n",
        "def get_rnn_x_y(data, index, vocab_size = VOCAB.num_words()):\n",
        "  x = None\n",
        "  y = None\n",
        "  ### BEGIN SOLUTION\n",
        "  x = token2onehot(data[index], vocab_size)\n",
        "  y = torch.tensor([data[index + 1]], dtype = torch.long)\n",
        "  ### END SOLUTION\n",
        "  return x, y"
      ]
    },
    {
      "cell_type": "code",
      "execution_count": 25,
      "metadata": {
        "editable": false,
        "tags": [
          "raises-exception"
        ],
        "colab": {
          "base_uri": "https://localhost:8080/"
        },
        "id": "yjNF01ctylP7",
        "outputId": "73c2fc9b-7dd8-4665-e0ab-cc8a37e78189"
      },
      "outputs": [
        {
          "output_type": "stream",
          "name": "stdout",
          "text": [
            "Test B: 10/10\n"
          ]
        }
      ],
      "source": [
        "# student check - the following test must return a value of 10 to receive full credit (no partial credit)\n",
        "ag.unit_test_token2onehot()"
      ]
    },
    {
      "cell_type": "code",
      "execution_count": 26,
      "metadata": {
        "editable": false,
        "tags": [
          "raises-exception"
        ],
        "colab": {
          "base_uri": "https://localhost:8080/"
        },
        "id": "53qt2lhOylP7",
        "outputId": "ccd239bc-5a24-4cdf-e928-b896feb9d50a"
      },
      "outputs": [
        {
          "output_type": "stream",
          "name": "stdout",
          "text": [
            "Test C: 10/10\n"
          ]
        }
      ],
      "source": [
        "# student check - the following test must return a value of 100 to receive full credit (no partial credit)\n",
        "ag.unit_test_get_xy()"
      ]
    },
    {
      "cell_type": "markdown",
      "metadata": {
        "editable": false,
        "id": "RDFRH_FUj_4F",
        "tags": []
      },
      "source": [
        "The following is the training loop. You can see how your `get_rnn_x_y()` is used."
      ]
    },
    {
      "cell_type": "code",
      "execution_count": 27,
      "metadata": {
        "editable": false,
        "id": "97XvkPmsuC2Q",
        "tags": [
          "raises-exception"
        ]
      },
      "outputs": [],
      "source": [
        "def train_rnn(model, optimizer, criterion, data, num_epochs):\n",
        "  model.train()\n",
        "  for epoch in range(num_epochs):\n",
        "    hidden_state = model.init_hidden()\n",
        "    losses = []\n",
        "    for i in range(len(data)-2):\n",
        "      x, y = get_rnn_x_y(data, i)\n",
        "      x = x.float()\n",
        "      output, new_hidden = model(x, hidden_state)\n",
        "      hidden_state = new_hidden.detach()\n",
        "      loss = criterion(output, y)\n",
        "      optimizer.zero_grad()\n",
        "      loss.backward()\n",
        "      losses.append(loss.item())\n",
        "      nn.utils.clip_grad_norm_(model.parameters(), 1)\n",
        "      optimizer.step()\n",
        "      if i%100 == 0:\n",
        "        print('iter', i, 'loss', np.array(losses).mean())\n",
        "    print('epoch', epoch, 'loss', np.array(losses).mean())"
      ]
    },
    {
      "cell_type": "code",
      "execution_count": 28,
      "metadata": {
        "editable": false,
        "id": "kyvFAzHzvmJz",
        "scrolled": true,
        "tags": [
          "raises-exception"
        ],
        "colab": {
          "base_uri": "https://localhost:8080/"
        },
        "outputId": "b07bde9e-d86f-4164-e031-73402f7dd7fa"
      },
      "outputs": [
        {
          "output_type": "stream",
          "name": "stdout",
          "text": [
            "iter 0 loss 8.689008712768555\n",
            "iter 100 loss 7.711657585483967\n",
            "iter 200 loss 7.067662358877078\n",
            "iter 300 loss 7.148563674914085\n",
            "iter 400 loss 7.182930459999978\n",
            "iter 500 loss 7.088951787072979\n",
            "iter 600 loss 7.018379409380642\n",
            "iter 700 loss 6.998955714039387\n",
            "iter 800 loss 6.9123339901553855\n",
            "iter 900 loss 6.904790370101802\n",
            "iter 1000 loss 6.845503793610678\n",
            "iter 1100 loss 6.775536357760971\n",
            "iter 1200 loss 6.7809340379121\n",
            "iter 1300 loss 6.772546315999511\n",
            "iter 1400 loss 6.820638447680872\n",
            "iter 1500 loss 6.84826389687765\n",
            "iter 1600 loss 6.859049132844197\n",
            "iter 1700 loss 6.848109832201055\n",
            "iter 1800 loss 6.841512500048346\n",
            "iter 1900 loss 6.86218875558799\n",
            "iter 2000 loss 6.885768581932036\n",
            "iter 2100 loss 6.8820799194535205\n",
            "iter 2200 loss 6.858347763450836\n",
            "iter 2300 loss 6.835237362834486\n",
            "iter 2400 loss 6.833431483531485\n",
            "iter 2500 loss 6.8335043113978085\n",
            "iter 2600 loss 6.809422938583539\n",
            "iter 2700 loss 6.802083366250868\n",
            "iter 2800 loss 6.791985106974659\n",
            "iter 2900 loss 6.803083753635127\n",
            "iter 3000 loss 6.80410079608874\n",
            "iter 3100 loss 6.793201361595143\n",
            "iter 3200 loss 6.803498739005997\n",
            "iter 3300 loss 6.8025864223681305\n",
            "iter 3400 loss 6.812227347236421\n",
            "iter 3500 loss 6.83189158068831\n",
            "iter 3600 loss 6.860778222594517\n",
            "iter 3700 loss 6.880363341909072\n",
            "iter 3800 loss 6.896171988091698\n",
            "iter 3900 loss 6.908400919262613\n",
            "iter 4000 loss 6.907102497167451\n",
            "iter 4100 loss 6.888500512140433\n",
            "iter 4200 loss 6.905771005709834\n",
            "iter 4300 loss 6.921074661189139\n",
            "iter 4400 loss 6.939600983835627\n",
            "iter 4500 loss 6.954973384860462\n",
            "iter 4600 loss 6.969994790694994\n",
            "iter 4700 loss 6.983682006058656\n",
            "iter 4800 loss 6.9879244347086455\n",
            "iter 4900 loss 6.97755273020625\n",
            "iter 5000 loss 6.9745673884084\n",
            "iter 5100 loss 6.979451794538795\n",
            "iter 5200 loss 6.982874303832693\n",
            "iter 5300 loss 6.9805385604869015\n",
            "iter 5400 loss 6.998715936696169\n",
            "iter 5500 loss 7.009449474130234\n",
            "iter 5600 loss 6.994978532059409\n",
            "iter 5700 loss 6.9911143607977\n",
            "iter 5800 loss 6.994979253217611\n",
            "iter 5900 loss 6.992778538637415\n",
            "iter 6000 loss 6.9888261640355935\n",
            "iter 6100 loss 6.970755164368468\n",
            "iter 6200 loss 6.956729406378881\n",
            "iter 6300 loss 6.950506633008365\n",
            "iter 6400 loss 6.942274566619327\n",
            "iter 6500 loss 6.958864512974951\n",
            "iter 6600 loss 6.9422871854211\n",
            "iter 6700 loss 6.9321655443561125\n",
            "iter 6800 loss 6.928262928578279\n",
            "iter 6900 loss 6.916682116688378\n",
            "iter 7000 loss 6.9057630946671615\n",
            "iter 7100 loss 6.8992961620238615\n",
            "iter 7200 loss 6.897428442394381\n",
            "iter 7300 loss 6.891253627513209\n",
            "iter 7400 loss 6.889723089273323\n",
            "iter 7500 loss 6.8905120216684494\n",
            "iter 7600 loss 6.889022110594901\n",
            "iter 7700 loss 6.887131819441294\n",
            "iter 7800 loss 6.881816134099363\n",
            "iter 7900 loss 6.868359502097984\n",
            "iter 8000 loss 6.856647338033274\n",
            "iter 8100 loss 6.838081785185574\n",
            "iter 8200 loss 6.829584635422588\n",
            "iter 8300 loss 6.831176034123362\n",
            "iter 8400 loss 6.827993973250645\n",
            "iter 8500 loss 6.818751630927097\n",
            "iter 8600 loss 6.821331613012669\n",
            "iter 8700 loss 6.809033958908608\n",
            "iter 8800 loss 6.805347256227835\n",
            "iter 8900 loss 6.798989495344744\n",
            "iter 9000 loss 6.798975425426887\n",
            "iter 9100 loss 6.790885968642397\n",
            "iter 9200 loss 6.785283517292072\n",
            "iter 9300 loss 6.778588248912833\n",
            "iter 9400 loss 6.77957035405067\n",
            "iter 9500 loss 6.775902749594732\n",
            "iter 9600 loss 6.776028630268126\n",
            "iter 9700 loss 6.773176527191666\n",
            "iter 9800 loss 6.779226328734049\n",
            "iter 9900 loss 6.777180295118887\n",
            "iter 10000 loss 6.776088068412788\n",
            "iter 10100 loss 6.773961145628114\n",
            "iter 10200 loss 6.767766076067525\n",
            "iter 10300 loss 6.7646004589376325\n",
            "iter 10400 loss 6.756046195183107\n",
            "iter 10500 loss 6.7566804305256785\n",
            "iter 10600 loss 6.753872449482829\n",
            "iter 10700 loss 6.741296240279924\n",
            "iter 10800 loss 6.739820728008642\n",
            "iter 10900 loss 6.7334743645057555\n",
            "iter 11000 loss 6.729028460521848\n",
            "iter 11100 loss 6.726072509397141\n",
            "iter 11200 loss 6.723016730811104\n",
            "iter 11300 loss 6.715914702351648\n",
            "iter 11400 loss 6.71499989122615\n",
            "iter 11500 loss 6.716055575787695\n",
            "epoch 0 loss 6.7143355777586216\n",
            "iter 0 loss 8.838653564453125\n",
            "iter 100 loss 5.491926467064584\n",
            "iter 200 loss 5.406305326751215\n",
            "iter 300 loss 5.415726069794145\n",
            "iter 400 loss 5.5120749283312565\n",
            "iter 500 loss 5.5233423781252196\n",
            "iter 600 loss 5.514895903290608\n",
            "iter 700 loss 5.485681153398097\n",
            "iter 800 loss 5.449822975008675\n",
            "iter 900 loss 5.471141688236253\n",
            "iter 1000 loss 5.466014492404568\n",
            "iter 1100 loss 5.445413241161204\n",
            "iter 1200 loss 5.425745334156745\n",
            "iter 1300 loss 5.3985756842747366\n",
            "iter 1400 loss 5.421044647012924\n",
            "iter 1500 loss 5.432398213576191\n",
            "iter 1600 loss 5.457633480625105\n",
            "iter 1700 loss 5.453463567312433\n",
            "iter 1800 loss 5.468122621167706\n",
            "iter 1900 loss 5.507745037199258\n",
            "iter 2000 loss 5.5305520933249905\n",
            "iter 2100 loss 5.540350051081674\n",
            "iter 2200 loss 5.523081895006293\n",
            "iter 2300 loss 5.512296167677872\n",
            "iter 2400 loss 5.513250315055307\n",
            "iter 2500 loss 5.517463696069691\n",
            "iter 2600 loss 5.5064365628910545\n",
            "iter 2700 loss 5.500884612416038\n",
            "iter 2800 loss 5.498888529398236\n",
            "iter 2900 loss 5.496784176159957\n",
            "iter 3000 loss 5.49797490833005\n",
            "iter 3100 loss 5.498808269287762\n",
            "iter 3200 loss 5.508304318881564\n",
            "iter 3300 loss 5.513238223474411\n",
            "iter 3400 loss 5.5225700758653895\n",
            "iter 3500 loss 5.529376080396413\n",
            "iter 3600 loss 5.540715975186719\n",
            "iter 3700 loss 5.5472661014087645\n",
            "iter 3800 loss 5.560444767178438\n",
            "iter 3900 loss 5.576562652814636\n",
            "iter 4000 loss 5.575646362522786\n",
            "iter 4100 loss 5.568376365652087\n",
            "iter 4200 loss 5.579794067509031\n",
            "iter 4300 loss 5.597819668599213\n",
            "iter 4400 loss 5.609535870918277\n",
            "iter 4500 loss 5.623090011626979\n",
            "iter 4600 loss 5.636108096605589\n",
            "iter 4700 loss 5.649110117914118\n",
            "iter 4800 loss 5.656331638846887\n",
            "iter 4900 loss 5.654843078878699\n",
            "iter 5000 loss 5.657663904233257\n",
            "iter 5100 loss 5.667690201474975\n",
            "iter 5200 loss 5.675833591633727\n",
            "iter 5300 loss 5.678655264108187\n",
            "iter 5400 loss 5.6936916764898005\n",
            "iter 5500 loss 5.701377263959376\n",
            "iter 5600 loss 5.6989949475950565\n",
            "iter 5700 loss 5.700334120781625\n",
            "iter 5800 loss 5.7094233258903655\n",
            "iter 5900 loss 5.709808628875469\n",
            "iter 6000 loss 5.711892208592571\n",
            "iter 6100 loss 5.704633023910416\n",
            "iter 6200 loss 5.700314194074544\n",
            "iter 6300 loss 5.702390631453005\n",
            "iter 6400 loss 5.703238597690565\n",
            "iter 6500 loss 5.721602465185527\n",
            "iter 6600 loss 5.7147261578374655\n",
            "iter 6700 loss 5.714080374812994\n",
            "iter 6800 loss 5.716576202321344\n",
            "iter 6900 loss 5.712611350636951\n",
            "iter 7000 loss 5.708702654553182\n",
            "iter 7100 loss 5.709052755129772\n",
            "iter 7200 loss 5.7110368824182265\n",
            "iter 7300 loss 5.711896934589773\n",
            "iter 7400 loss 5.714060645665756\n",
            "iter 7500 loss 5.7183294448156765\n",
            "iter 7600 loss 5.721919413519257\n",
            "iter 7700 loss 5.724533161529859\n",
            "iter 7800 loss 5.724708212982949\n",
            "iter 7900 loss 5.718238713005467\n",
            "iter 8000 loss 5.7147395099875125\n",
            "iter 8100 loss 5.702789942297196\n",
            "iter 8200 loss 5.70117114234837\n",
            "iter 8300 loss 5.706310535953528\n",
            "iter 8400 loss 5.707288147331547\n",
            "iter 8500 loss 5.705729533203797\n",
            "iter 8600 loss 5.712068915457216\n",
            "iter 8700 loss 5.705326762857443\n",
            "iter 8800 loss 5.70682342219266\n",
            "iter 8900 loss 5.703618314788926\n",
            "iter 9000 loss 5.706190326894975\n",
            "iter 9100 loss 5.705088321785523\n",
            "iter 9200 loss 5.7041526337270305\n",
            "iter 9300 loss 5.700699940530501\n",
            "iter 9400 loss 5.704459006555434\n",
            "iter 9500 loss 5.7050481454038255\n",
            "iter 9600 loss 5.710050274423479\n",
            "iter 9700 loss 5.711054892330953\n",
            "iter 9800 loss 5.719276526751853\n",
            "iter 9900 loss 5.721792612237986\n",
            "iter 10000 loss 5.72440264702332\n",
            "iter 10100 loss 5.725791886426732\n",
            "iter 10200 loss 5.724499855520281\n",
            "iter 10300 loss 5.726374278770652\n",
            "iter 10400 loss 5.724294518048506\n",
            "iter 10500 loss 5.730508130532244\n",
            "iter 10600 loss 5.73197118782084\n",
            "iter 10700 loss 5.72518711240311\n",
            "iter 10800 loss 5.727296885023315\n",
            "iter 10900 loss 5.726202331328214\n",
            "iter 11000 loss 5.726177048492449\n",
            "iter 11100 loss 5.727377029171227\n",
            "iter 11200 loss 5.728254093989529\n",
            "iter 11300 loss 5.726016370213862\n",
            "iter 11400 loss 5.727825472526577\n",
            "iter 11500 loss 5.732072241642549\n",
            "epoch 1 loss 5.730808561803112\n"
          ]
        }
      ],
      "source": [
        "train_rnn(rnn, optimizer_rnn, criterion_rnn, TRAIN, RNN_NUM_EPOCHS)"
      ]
    },
    {
      "cell_type": "markdown",
      "metadata": {
        "editable": false,
        "id": "R5JxdK30Cv8u",
        "tags": []
      },
      "source": [
        "## RNN---Test (20 Points)"
      ]
    },
    {
      "cell_type": "markdown",
      "metadata": {
        "editable": false,
        "id": "L7yKgJmZ5iZ5",
        "tags": []
      },
      "source": [
        "Even if loss went down, we can't make any guarantees about what the network will do on unseen sequences. To evaluate, we will measure **perplexity**, how much the network is confused by data. As you adjust hyperparameters and retrain the model you may notice that a model with a lower loss on training data doesn't necessarily produce a model with lower perplexity on test data."
      ]
    },
    {
      "cell_type": "code",
      "execution_count": 29,
      "metadata": {
        "editable": false,
        "id": "Ztoctsl_lu1r",
        "tags": [
          "raises-exception"
        ],
        "colab": {
          "base_uri": "https://localhost:8080/"
        },
        "outputId": "0ac8de3f-50f4-43d3-fdb6-94451ca53ff3"
      },
      "outputs": [
        {
          "output_type": "stream",
          "name": "stdout",
          "text": [
            "Perplexity:  tensor(1063.8922)\n",
            "Test D: 20/20\n"
          ]
        }
      ],
      "source": [
        "# student check - the following test must return a value < 2000 to receive full credit (no partial credit)\n",
        "ag.evaluate_rnn(rnn, TEST, criterion_rnn)"
      ]
    },
    {
      "cell_type": "markdown",
      "metadata": {
        "editable": false,
        "id": "fPbSy48UCzws",
        "tags": []
      },
      "source": [
        "## RNN---Generate (10 Points)"
      ]
    },
    {
      "cell_type": "markdown",
      "metadata": {
        "editable": false,
        "id": "g8oloDU5C2-S",
        "tags": []
      },
      "source": [
        "Let's use the RNN to generate some text. This is going to take a bit of set up. We need to take an input prompt---the start of the text---and tokenize it. Then we need a hidden state that represents the prompt, so we have to run the input prompt through the RNN to build up the hidden state. Then we can finally let the RNN loose to generate new text by feeding the outputs of the RNN (and the hidden state) back into the RNN as inputs."
      ]
    },
    {
      "cell_type": "code",
      "execution_count": 30,
      "metadata": {
        "editable": false,
        "id": "QMlveLOcm8A9",
        "tags": [
          "raises-exception"
        ],
        "colab": {
          "base_uri": "https://localhost:8080/"
        },
        "outputId": "593402cc-6a4d-4d89-f48f-0ebd910a0ca2"
      },
      "outputs": [
        {
          "output_type": "stream",
          "name": "stdout",
          "text": [
            "input prompt: the First War began\n",
            "input tokens: [2, 14, 15, 16] \n",
            "\n",
            "Prepping hidden state:\n",
            "\n",
            "current token: 2 the\n",
            "predicted next token: 2 the \n",
            "\n",
            "current token: 14 first\n",
            "predicted next token: 22 and \n",
            "\n",
            "current token: 15 war\n",
            "predicted next token: 2 the \n",
            "\n",
            "current token: 16 began\n",
            "predicted next token: 2 the \n",
            "\n",
            "Generating continuation:\n",
            "\n",
            "current token: 16 began\n",
            "predicted next token: 2 the \n",
            "\n",
            "current token: 2 the\n",
            "predicted next token: 2 the \n",
            "\n",
            "current token: 2 the\n",
            "predicted next token: 2 the \n",
            "\n",
            "current token: 2 the\n",
            "predicted next token: 2 the \n",
            "\n",
            "current token: 2 the\n",
            "predicted next token: 2 the \n",
            "\n",
            "current token: 2 the\n",
            "predicted next token: 2 the \n",
            "\n",
            "current token: 2 the\n",
            "predicted next token: 2 the \n",
            "\n",
            "current token: 2 the\n",
            "predicted next token: 2 the \n",
            "\n",
            "current token: 2 the\n",
            "predicted next token: 2 the \n",
            "\n",
            "current token: 2 the\n",
            "predicted next token: 2 the \n",
            "\n",
            "Final continuation:\n",
            "[2, 2, 2, 2, 2, 2, 2, 2, 2, 2]\n",
            "['the', 'the', 'the', 'the', 'the', 'the', 'the', 'the', 'the', 'the']\n",
            "Final:\n",
            "the First War began the the the the the the the the the the\n"
          ]
        }
      ],
      "source": [
        "# Example input prompt:\n",
        "input_prompt = \"the First War began\"\n",
        "# How long should the continuation be?\n",
        "num_new_tokens = 10\n",
        "\n",
        "# Normalize the input\n",
        "normalized_input = normalize_string(input_prompt)\n",
        "# Tokenize the input\n",
        "tokenized_input = [VOCAB.word2index(w) for w in normalized_input.split()]\n",
        "print(\"input prompt:\", input_prompt)\n",
        "print(\"input tokens:\", tokenized_input, '\\n')\n",
        "\n",
        "# We need to make a hidden_state that is representative of what is in the input prompt\n",
        "def prep_hidden_state(tokenized_input, rnn, verbose=False):\n",
        "  # Get an initial hidden state\n",
        "  hidden_state = rnn.init_hidden()\n",
        "  # Run the input prompt through the RNN to build up the hidden state.\n",
        "  # Discard the outputs (we are not trying to make predictions) until we get to the end\n",
        "  for token in tokenized_input:\n",
        "    if verbose:\n",
        "      print(\"current token:\", token, VOCAB.index2word(token))\n",
        "    # Get the one-hot for the current token\n",
        "    x = token2onehot(token)\n",
        "    x = x.float()\n",
        "    # Run the current one-hot and hidden state through the RNN\n",
        "    output, hidden_state = rnn(x, hidden_state)\n",
        "    # Get the highest predicted token\n",
        "    next_token = output.argmax().item()\n",
        "    if verbose:\n",
        "      print(\"predicted next token:\", next_token, VOCAB.index2word(next_token), '\\n')\n",
        "  return hidden_state\n",
        "\n",
        "# Get the hidden state that represents the input prompt\n",
        "print(\"Prepping hidden state:\\n\")\n",
        "hidden_state = prep_hidden_state(tokenized_input, rnn, verbose=True)\n",
        "\n",
        "# Generate a continuation by sampling from the RNN and then feeding the predicted output\n",
        "# back into the RNN over and over. The default sampling is argmax.\n",
        "def generate_rnn(rnn, num_new_tokens, token, hidden_state, fn=lambda d:d.argmax().item(), verbose=False):\n",
        "  # Keep generating more by feeding the predicted output back into the RNN as input\n",
        "  # Start with the last token of the input prompt and the newly prepped hidden state\n",
        "  if verbose:\n",
        "    print(\"Generating continuation:\\n\")\n",
        "  continuation = []\n",
        "  for n in range(num_new_tokens):\n",
        "    if verbose:\n",
        "      print(\"current token:\", token, VOCAB.index2word(token))\n",
        "    # Get the one-hot for the current token\n",
        "    x = token2onehot(token)\n",
        "    x = x.float()\n",
        "    # Run the current one-hot through the RNN\n",
        "    output, hidden_state = rnn(x, hidden_state)\n",
        "    # Predict the next token\n",
        "    next_token = fn(output)\n",
        "    if verbose:\n",
        "      print(\"predicted next token:\", next_token, VOCAB.index2word(next_token), '\\n')\n",
        "    # Remember the new token\n",
        "    continuation.append(next_token)\n",
        "    # update the current\n",
        "    token = next_token\n",
        "  return continuation\n",
        "\n",
        "# Generate the continuation. Use the argmax function to sample from the RNN's outputs\n",
        "token = tokenized_input[-1]\n",
        "continuation = generate_rnn(rnn, num_new_tokens, token, hidden_state, verbose=True)\n",
        "\n",
        "# All done\n",
        "print(\"Final continuation:\")\n",
        "print(continuation)\n",
        "continuation_text = [VOCAB.index2word(t) for t in continuation]\n",
        "print(continuation_text)\n",
        "print(\"Final:\")\n",
        "print(input_prompt + ' ' + ' '.join(continuation_text))"
      ]
    },
    {
      "cell_type": "markdown",
      "metadata": {
        "editable": false,
        "id": "D7AaCW1qwgT-",
        "tags": []
      },
      "source": [
        "Odds are good that you got an output that was highly repetitive. This is in part because we always take the `argmax` of the output logits. There are sequences in the corpus that are highly probable, so by sampling the most likely logit, we are going to get trapped in a local max."
      ]
    },
    {
      "cell_type": "markdown",
      "metadata": {
        "editable": false,
        "id": "2YCYDJPo4-gi",
        "tags": []
      },
      "source": [
        "Instead, we need to treat the output of the RNN as a distribution and *sample* from the distribution to proabilisticially choose the next token, proportional to how highly activated each token is.\n",
        "\n",
        "**Complete the following function.** `my_sample()` should take a tensor of log probabilities for each token in the the vocabulary (the output of the RNN). It should probabilistically sample from this distribution and return a highly probable next token as an integer.\n",
        "\n",
        "**Hints:** Consider using `torch.multinomial`. Remember, your input is in log scale."
      ]
    },
    {
      "cell_type": "code",
      "execution_count": 39,
      "metadata": {
        "editable": true,
        "id": "Nu-_4kGv4Yv8",
        "nbgrader": {
          "grade": false,
          "grade_id": "cell-69f4926e06aa0885",
          "locked": false,
          "schema_version": 3,
          "solution": true,
          "task": false
        },
        "tags": [
          "raises-exception"
        ]
      },
      "outputs": [],
      "source": [
        "def my_sample(log_probs):\n",
        "  token = None\n",
        "  ### BEGIN SOLUTION\n",
        "  probs = torch.exp(log_probs)\n",
        "  token = torch.multinomial(probs, 1, replacement = False)\n",
        "  token = token.item()\n",
        "\n",
        "  ### END SOLUTION\n",
        "  return token"
      ]
    },
    {
      "cell_type": "code",
      "execution_count": 40,
      "metadata": {
        "editable": false,
        "id": "iop8mlR7gShH",
        "tags": [
          "raises-exception"
        ],
        "colab": {
          "base_uri": "https://localhost:8080/"
        },
        "outputId": "aa902ad1-00ce-4688-e144-ff0f5d0af1ce"
      },
      "outputs": [
        {
          "output_type": "stream",
          "name": "stdout",
          "text": [
            "Score:  97\n",
            "Test E: 10/10\n"
          ]
        }
      ],
      "source": [
        "# student check - the following test must return a value > 90 to receive full credit (no partial credit)\n",
        "ag.unit_test_my_sample()"
      ]
    },
    {
      "cell_type": "markdown",
      "metadata": {
        "editable": false,
        "id": "GA_n9Dr6Bmhp",
        "tags": []
      },
      "source": [
        "Run the cell below a few times and see what gets generated with your sampling technique."
      ]
    },
    {
      "cell_type": "code",
      "execution_count": 45,
      "metadata": {
        "editable": false,
        "id": "brCksz3sw4cr",
        "tags": [
          "raises-exception"
        ],
        "colab": {
          "base_uri": "https://localhost:8080/"
        },
        "outputId": "3d6d8734-a002-4854-d66e-0caf3ae036fb"
      },
      "outputs": [
        {
          "output_type": "stream",
          "name": "stdout",
          "text": [
            "input prompt: the First War began\n",
            "input tokens: [2, 14, 15, 16] \n",
            "\n",
            "Generating continuation:\n",
            "\n",
            "current token: 16 began\n",
            "predicted next token: 9 is \n",
            "\n",
            "current token: 9 is\n",
            "predicted next token: 492 sat \n",
            "\n",
            "current token: 492 sat\n",
            "predicted next token: 6 beginning \n",
            "\n",
            "current token: 6 beginning\n",
            "predicted next token: 628 those \n",
            "\n",
            "current token: 628 those\n",
            "predicted next token: 395 who \n",
            "\n",
            "current token: 395 who\n",
            "predicted next token: 79 age \n",
            "\n",
            "current token: 79 age\n",
            "predicted next token: 342 indeed \n",
            "\n",
            "current token: 342 indeed\n",
            "predicted next token: 189 nor \n",
            "\n",
            "current token: 189 nor\n",
            "predicted next token: 1131 free \n",
            "\n",
            "current token: 1131 free\n",
            "predicted next token: 451 into \n",
            "\n",
            "Final continuation:\n",
            "[9, 492, 6, 628, 395, 79, 342, 189, 1131, 451]\n",
            "is sat beginning those who age indeed nor free into\n",
            "Final:\n",
            "the First War began is sat beginning those who age indeed nor free into\n"
          ]
        }
      ],
      "source": [
        "# Example input prompt:\n",
        "input_prompt = \"the First War began\"\n",
        "# How long should the continuation be?\n",
        "num_new_tokens = 10\n",
        "\n",
        "# Normalize the input\n",
        "normalized_input = normalize_string(input_prompt)\n",
        "# Tokenize the input\n",
        "tokenized_input = [VOCAB.word2index(w) for w in normalized_input.split()]\n",
        "print(\"input prompt:\", input_prompt)\n",
        "print(\"input tokens:\", tokenized_input, '\\n')\n",
        "# Get an initial hidden state\n",
        "hidden_state = prep_hidden_state(tokenized_input, rnn)\n",
        "\n",
        "# Generate the continuation. Use my_sample\n",
        "token = tokenized_input[-1]\n",
        "continuation = generate_rnn(rnn, num_new_tokens, token, hidden_state, fn=my_sample, verbose=True)\n",
        "\n",
        "# All done\n",
        "print(\"Final continuation:\")\n",
        "print(continuation)\n",
        "continuation_text = [VOCAB.index2word(t) for t in continuation]\n",
        "print(' '.join(continuation_text))\n",
        "print(\"Final:\")\n",
        "print(input_prompt + ' ' + ' '.join(continuation_text))"
      ]
    },
    {
      "cell_type": "markdown",
      "metadata": {
        "editable": false,
        "id": "BUPq4bIjRV3i",
        "tags": []
      },
      "source": [
        "## RNN---Optimize (10 Points)"
      ]
    },
    {
      "cell_type": "markdown",
      "metadata": {
        "editable": false,
        "id": "k-yYCls275hX",
        "tags": []
      },
      "source": [
        "Well, that is probably crazy and non-sensical. If the distribution has a lot of nearly-equal probability candidates, the sampling technique you wrote probably makes some choices that look random. But it probably isn't stuck in a local max.\n",
        "\n",
        "How do we fix this? We introduce something called **temperature**. Temperature is a value between 0.0 and 1.0 that makes higher probability tokens more probable and less probable tokens less probable.\n",
        "\n",
        "**Complete the following function.** It should operate exactly like `my_sample()` except that it should divide the probabilities (between 0.0 and 1.0) by temperature.\n",
        "\n",
        "Dividing by `temperature=1.0` leaves the probability distribution unchanged. As temperature gets smaller, approaching 0.0, the high probability tokens approach infinity faster than low probability tokens. The distribution spreads out along an exponential curve."
      ]
    },
    {
      "cell_type": "code",
      "execution_count": 83,
      "metadata": {
        "editable": true,
        "id": "AB-26jCc-hvX",
        "nbgrader": {
          "grade": false,
          "grade_id": "cell-7a18829f8109ede9",
          "locked": false,
          "schema_version": 3,
          "solution": true,
          "task": false
        },
        "tags": [
          "raises-exception"
        ]
      },
      "outputs": [],
      "source": [
        "def my_temperature_sample(log_probs, temperature=1):\n",
        "  token = None\n",
        "  ### BEGIN SOLUTION\n",
        "  probs = torch.exp(log_probs/temperature)\n",
        "  probs = probs/probs.sum()\n",
        "  token = torch.multinomial(probs, 1, replacement = False)\n",
        "  token = token.item()\n",
        "  ### END SOLUTION\n",
        "  return token"
      ]
    },
    {
      "cell_type": "code",
      "execution_count": 84,
      "metadata": {
        "editable": false,
        "id": "spkbQciwhgM0",
        "tags": [
          "raises-exception"
        ],
        "colab": {
          "base_uri": "https://localhost:8080/"
        },
        "outputId": "16c56739-b9cd-4bcd-ab7a-b4148404df0e"
      },
      "outputs": [
        {
          "output_type": "stream",
          "name": "stdout",
          "text": [
            "p-value:  0.0\n",
            "Test F: 10/10\n"
          ]
        }
      ],
      "source": [
        "# student check - the following test must return True to receive full credit (no partial credit)\n",
        "ag.unit_test_my_temperature_sample()"
      ]
    },
    {
      "cell_type": "markdown",
      "metadata": {
        "editable": false,
        "id": "uhnhTbWIBEl0",
        "tags": []
      },
      "source": [
        "One more time. This time, play around with the temperature value"
      ]
    },
    {
      "cell_type": "code",
      "execution_count": 89,
      "metadata": {
        "editable": true,
        "id": "UmMpnUNxCOVM",
        "tags": [
          "raises-exception"
        ]
      },
      "outputs": [],
      "source": [
        "# set the temperature - it's ok to modify this cell\n",
        "RNN_TEMPERATURE = 0.8"
      ]
    },
    {
      "cell_type": "code",
      "execution_count": 90,
      "metadata": {
        "editable": false,
        "id": "fXT4cW4BBJWV",
        "tags": [
          "raises-exception"
        ],
        "colab": {
          "base_uri": "https://localhost:8080/"
        },
        "outputId": "40ca7588-f211-47a2-82ba-9d1379fc8e12"
      },
      "outputs": [
        {
          "output_type": "stream",
          "name": "stdout",
          "text": [
            "input prompt: the First War began\n",
            "input tokens: [2, 14, 15, 16] \n",
            "\n",
            "Generating continuation:\n",
            "\n",
            "current token: 16 began\n",
            "predicted next token: 39 . \n",
            "\n",
            "current token: 39 .\n",
            "predicted next token: 794 would \n",
            "\n",
            "current token: 794 would\n",
            "predicted next token: 31 upon \n",
            "\n",
            "current token: 31 upon\n",
            "predicted next token: 2 the \n",
            "\n",
            "current token: 2 the\n",
            "predicted next token: 429 height \n",
            "\n",
            "current token: 429 height\n",
            "predicted next token: 5 of \n",
            "\n",
            "current token: 5 of\n",
            "predicted next token: 45 great \n",
            "\n",
            "current token: 45 great\n",
            "predicted next token: 521 have \n",
            "\n",
            "current token: 521 have\n",
            "predicted next token: 2 the \n",
            "\n",
            "current token: 2 the\n",
            "predicted next token: 41 in \n",
            "\n",
            "Final continuation:\n",
            "[39, 794, 31, 2, 429, 5, 45, 521, 2, 41]\n",
            ". would upon the height of great have the in\n",
            "Final:\n",
            "the First War began . would upon the height of great have the in\n"
          ]
        }
      ],
      "source": [
        "# Example input prompt:\n",
        "input_prompt = \"the First War began\"\n",
        "# How long should the continuation be?\n",
        "num_new_tokens = 10\n",
        "\n",
        "# Normalize the input\n",
        "normalized_input = normalize_string(input_prompt)\n",
        "# Tokenize the input\n",
        "tokenized_input = [VOCAB.word2index(w) for w in normalized_input.split()]\n",
        "print(\"input prompt:\", input_prompt)\n",
        "print(\"input tokens:\", tokenized_input, '\\n')\n",
        "# Get an initial hidden state\n",
        "hidden_state = prep_hidden_state(tokenized_input, rnn)\n",
        "\n",
        "# Generate the continuation. Use my_sample\n",
        "token = tokenized_input[-1]\n",
        "continuation = generate_rnn(rnn, num_new_tokens, token, hidden_state, fn=lambda d:my_temperature_sample(d, RNN_TEMPERATURE), verbose=True)\n",
        "\n",
        "# All done\n",
        "print(\"Final continuation:\")\n",
        "print(continuation)\n",
        "continuation_text = [VOCAB.index2word(t) for t in continuation]\n",
        "print(' '.join(continuation_text))\n",
        "print(\"Final:\")\n",
        "print(input_prompt + ' ' + ' '.join(continuation_text))"
      ]
    },
    {
      "cell_type": "markdown",
      "metadata": {
        "editable": false,
        "id": "qXU9cSZjRV3k",
        "tags": []
      },
      "source": [
        "# Grading\n",
        "\n",
        "Please submit this .ipynb file to Canvas for grading."
      ]
    },
    {
      "cell_type": "markdown",
      "metadata": {
        "collapsed": false,
        "editable": false,
        "tags": [],
        "id": "EEZbqTqZylQG"
      },
      "source": [
        "## Final Grade"
      ]
    },
    {
      "cell_type": "code",
      "execution_count": 91,
      "metadata": {
        "editable": false,
        "tags": [
          "raises-exception"
        ],
        "colab": {
          "base_uri": "https://localhost:8080/"
        },
        "id": "lAvSFT5FylQG",
        "outputId": "2b6829ac-4dcc-4ab4-e99c-c15d1bbd7043"
      },
      "outputs": [
        {
          "output_type": "stream",
          "name": "stdout",
          "text": [
            "Your projected points for this assignment is 210/70.\n",
            "\n",
            "NOTE: THIS IS NOT YOUR FINAL GRADE. YOUR FINAL GRADE FOR THIS ASSIGNMENT WILL BE AT LEAST 210 OR MORE, BUT NOT LESS\n",
            "\n"
          ]
        }
      ],
      "source": [
        "# student check\n",
        "ag.final_grade()"
      ]
    },
    {
      "cell_type": "markdown",
      "metadata": {
        "collapsed": false,
        "editable": false,
        "tags": [],
        "id": "qbSwX_kvylQG"
      },
      "source": [
        "## Notebook Runtime"
      ]
    },
    {
      "cell_type": "code",
      "execution_count": 80,
      "metadata": {
        "editable": false,
        "tags": [
          "raises-exception"
        ],
        "colab": {
          "base_uri": "https://localhost:8080/"
        },
        "id": "OBfp59M2ylQH",
        "outputId": "f4fa280f-6483-413d-96e1-3580ab18705f"
      },
      "outputs": [
        {
          "output_type": "stream",
          "name": "stdout",
          "text": [
            "Notebook execution time in minutes = 133.74818414449692\n",
            "WARNING: Notebook execution time is greater than 30 minutes. Your submission may not complete auto-grading on Gradescope. Please optimize your code to reduce the notebook execution time.\n"
          ]
        }
      ],
      "source": [
        "# end time - notebook execution\n",
        "end_nb = time.time()\n",
        "# print notebook execution time in minutes\n",
        "print(\"Notebook execution time in minutes =\", (end_nb - start_nb)/60)\n",
        "# warn student if notebook execution time is greater than 30 minutes\n",
        "if (end_nb - start_nb)/60 > 30:\n",
        "  print(\"WARNING: Notebook execution time is greater than 30 minutes. Your submission may not complete auto-grading on Gradescope. Please optimize your code to reduce the notebook execution time.\")"
      ]
    }
  ],
  "metadata": {
    "colab": {
      "collapsed_sections": [
        "UT-whgM5YV8X",
        "VeQWnSY8CgT1",
        "UY0I2wl9D61t"
      ],
      "provenance": [],
      "include_colab_link": true
    },
    "kernelspec": {
      "display_name": "Python 3",
      "name": "python3"
    },
    "language_info": {
      "codemirror_mode": {
        "name": "ipython",
        "version": 3
      },
      "file_extension": ".py",
      "mimetype": "text/x-python",
      "name": "python",
      "nbconvert_exporter": "python",
      "pygments_lexer": "ipython3",
      "version": "3.8.1"
    }
  },
  "nbformat": 4,
  "nbformat_minor": 0
}